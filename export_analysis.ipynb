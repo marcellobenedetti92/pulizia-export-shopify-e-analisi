{
  "nbformat": 4,
  "nbformat_minor": 0,
  "metadata": {
    "colab": {
      "provenance": [],
      "toc_visible": true
    },
    "kernelspec": {
      "name": "python3",
      "display_name": "Python 3"
    },
    "language_info": {
      "name": "python"
    }
  },
  "cells": [
    {
      "cell_type": "markdown",
      "source": [
        "# Import"
      ],
      "metadata": {
        "id": "jDGj-JQwjEQ0"
      }
    },
    {
      "cell_type": "code",
      "source": [
        "from google.colab import drive\n",
        "import pandas as pd\n",
        "import matplotlib.pyplot as plt\n",
        "import plotly.graph_objects as go\n",
        "import numpy as np\n",
        "import matplotlib.dates as mdates\n",
        "import re\n",
        "\n",
        "# per creare tutte le combinazioni di anno e mese\n",
        "import itertools"
      ],
      "metadata": {
        "id": "OwNEWTqzL77B"
      },
      "execution_count": null,
      "outputs": []
    },
    {
      "cell_type": "markdown",
      "source": [
        "# Cleansing"
      ],
      "metadata": {
        "id": "sS3hcpZAFlmo"
      }
    },
    {
      "cell_type": "code",
      "source": [
        "# Read csv\n",
        "df = pd.read_csv('<qui inserisci il path che puoi recuperare facendo tasto dx e copia path>')"
      ],
      "metadata": {
        "id": "kTLVQE5GtrLf"
      },
      "execution_count": null,
      "outputs": []
    },
    {
      "cell_type": "code",
      "source": [
        "df.shape # per vedere quante righe e colonne hai, così verifichi se hai importato correttamente nella variabile df"
      ],
      "metadata": {
        "id": "b3czUzJRC-1F"
      },
      "execution_count": null,
      "outputs": []
    },
    {
      "cell_type": "markdown",
      "source": [
        "## Drop cols"
      ],
      "metadata": {
        "id": "fdQUVfMo2zEP"
      }
    },
    {
      "cell_type": "code",
      "source": [
        "def drop_cols(df):\n",
        "\n",
        "    \"\"\"\n",
        "    Funzione per pulire un DataFrame rimuovendo colonne e righe indesiderate.\n",
        "\n",
        "    Parametri:\n",
        "        df (pd.DataFrame): Il DataFrame da pulire.\n",
        "\n",
        "    Ritorna:\n",
        "        pd.DataFrame: Il DataFrame pulito.\n",
        "    \"\"\"\n",
        "\n",
        "    # 1. Lista manuale delle colonne da eliminare, rispettando l'ordine del csv\n",
        "    manual_columns_to_drop = [\n",
        "        'Financial Status', 'Paid at', 'Fulfillment Status', \\\n",
        "        'Fulfilled at', 'Currency', \\\n",
        "        'Total', 'Shipping Method', 'Lineitem sku', \\\n",
        "        'Lineitem requires shipping', 'Lineitem taxable', 'Lineitem fulfillment status', \\\n",
        "        'Shipping Name'\n",
        "    ]\n",
        "\n",
        "    # Droppa le colonne della lista manuale\n",
        "    df = df.drop(columns=[col for col in manual_columns_to_drop if col in df.columns], errors='ignore')\n",
        "\n",
        "    # 2. Parole chiave da cercare nei nomi delle colonne\n",
        "    keywords = ['Billing', 'Street', 'Address', 'Company', 'Zip', 'Country', 'Phone', 'Note']\n",
        "\n",
        "    # Filtra e droppa le colonne che contengono una qualsiasi delle parole chiave\n",
        "    keyword_columns_to_drop = [col for col in df.columns if any(keyword in col for keyword in keywords)]\n",
        "    df = df.drop(columns=keyword_columns_to_drop, errors='ignore')\n",
        "\n",
        "    # 3. Elimina tutte le colonne da \"Payment Method\" fino alla fine\n",
        "    if \"Payment Method\" in df.columns:\n",
        "        start_col = df.columns.get_loc(\"Payment Method\")\n",
        "        df = df.drop(columns=df.columns[start_col:], errors='ignore')\n",
        "\n",
        "    # 4. Elimina la riga che contiene un valore nella colonna \"Cancelled at\"\n",
        "    # QUI FALLO SOLO SE DEVI TOGLIERE DALL'ANALISI GLI ORDINI CHE POI SONO STATI CANCELLATI\n",
        "    if 'Cancelled at' in df.columns:\n",
        "        df = df[df['Cancelled at'].isna()]\n",
        "        df = df.drop(columns=['Cancelled at'], errors='ignore')\n",
        "\n",
        "    return df"
      ],
      "metadata": {
        "id": "PFIn55QqOYdG"
      },
      "execution_count": null,
      "outputs": []
    },
    {
      "cell_type": "code",
      "source": [
        "df = drop_cols(df)"
      ],
      "metadata": {
        "id": "uCROTaDDOdMu"
      },
      "execution_count": null,
      "outputs": []
    },
    {
      "cell_type": "markdown",
      "source": [
        "## DType mapping"
      ],
      "metadata": {
        "id": "lKxVfUNuRVME"
      }
    },
    {
      "cell_type": "code",
      "source": [
        "# starting point dtypes\n",
        "df.info()"
      ],
      "metadata": {
        "id": "8ejw1OTjpMHM"
      },
      "execution_count": null,
      "outputs": []
    },
    {
      "cell_type": "code",
      "source": [
        "def convert_type(df):\n",
        "\n",
        "    \"\"\"\n",
        "    Funzione per eseguire conversioni di tipo e pulizia su un DataFrame.\n",
        "\n",
        "    Parametri:\n",
        "        df (pd.DataFrame): Il DataFrame da pulire e convertire.\n",
        "\n",
        "    Ritorna:\n",
        "        pd.DataFrame: Il DataFrame con i tipi di dati aggiornati e le colonne modificate.\n",
        "    \"\"\"\n",
        "\n",
        "    # Conversioni a stringa\n",
        "    string_columns = ['Name', 'Order Number', 'Email', 'Lineitem name', 'Shipping City']\n",
        "    for col in string_columns:\n",
        "        if col in df.columns:\n",
        "            df[col] = df[col].astype('string')\n",
        "\n",
        "    # Conversioni a booleano\n",
        "    if 'Accepts Marketing' in df.columns:\n",
        "        df['Accepts Marketing'] = df['Accepts Marketing'].astype(bool)\n",
        "\n",
        "    # Conversioni a categoria\n",
        "    category_columns = ['Discount Code', 'Shipping Province']\n",
        "    for col in category_columns:\n",
        "        if col in df.columns:\n",
        "            df[col] = df[col].astype('category')\n",
        "\n",
        "    # Pulizia e conversione della colonna 'Created at'\n",
        "    if 'Created at' in df.columns:\n",
        "        # Rimuove il fuso orario\n",
        "        df['Created at'] = df['Created at'].str.replace(r' \\+\\d{4}', '', regex=True)\n",
        "        # Converte in datetime\n",
        "        df['Created at'] = pd.to_datetime(df['Created at'], errors='coerce')\n",
        "\n",
        "    # Conversione della colonna 'Taxes' in int8\n",
        "    if 'perc_taxes' in df.columns:\n",
        "        df['perc_taxes'] = df['perc_taxes'].astype('int8')\n",
        "\n",
        "    return df"
      ],
      "metadata": {
        "id": "vYYnm5-qJeGR"
      },
      "execution_count": null,
      "outputs": []
    },
    {
      "cell_type": "code",
      "source": [
        "df = convert_type(df)"
      ],
      "metadata": {
        "id": "1USRmsYgJeEL"
      },
      "execution_count": null,
      "outputs": []
    },
    {
      "cell_type": "code",
      "source": [
        "# Check\n",
        "df.info()"
      ],
      "metadata": {
        "id": "XaQQf3-OJeB0"
      },
      "execution_count": null,
      "outputs": []
    },
    {
      "cell_type": "markdown",
      "source": [
        "## Rename cols"
      ],
      "metadata": {
        "id": "wPHpJELwFv6V"
      }
    },
    {
      "cell_type": "code",
      "source": [
        "df.rename(columns={'Name': 'Order Number', 'Taxes': 'perc_taxes'}, inplace=True)\n",
        "# inplace=True: sovrascrive il df senza dichiarare una nuova variabile df\n",
        "# inplace=False: comportamento di default, necessario creare un'ulteriore variabile df"
      ],
      "metadata": {
        "id": "mB1JIFhi1wrV"
      },
      "execution_count": null,
      "outputs": []
    },
    {
      "cell_type": "markdown",
      "source": [
        "## Rename values"
      ],
      "metadata": {
        "id": "OQGCzBdgNV1a"
      }
    },
    {
      "cell_type": "code",
      "source": [
        "def replace_lineitem_names(df):\n",
        "\n",
        "    \"\"\"\n",
        "    Funzione per sostituire valori specifici nella colonna 'Lineitem name'.\n",
        "\n",
        "    Parametri:\n",
        "        df (pd.DataFrame): Il DataFrame da modificare.\n",
        "\n",
        "    Ritorna:\n",
        "        pd.DataFrame: Il DataFrame con i valori sostituiti.\n",
        "    \"\"\"\n",
        "\n",
        "    # Dizionario delle sostituzioni\n",
        "    replacements = {\n",
        "        'questo': 'in questo',\n",
        "        'questaltro': 'in questaltro ancora'\n",
        "    }\n",
        "\n",
        "    # Esegui le sostituzioni\n",
        "    if 'Lineitem name' in df.columns:\n",
        "        df['Lineitem name'] = df['Lineitem name'].replace(replacements)\n",
        "\n",
        "    return df"
      ],
      "metadata": {
        "id": "94hEvTjx4fkU"
      },
      "execution_count": null,
      "outputs": []
    },
    {
      "cell_type": "code",
      "source": [
        "df = replace_lineitem_names(df)"
      ],
      "metadata": {
        "id": "pxsaXAkd5hoE"
      },
      "execution_count": null,
      "outputs": []
    },
    {
      "cell_type": "code",
      "source": [
        "# Check per alfabetically order\n",
        "sorted(df[\"Lineitem name\"].unique())"
      ],
      "metadata": {
        "id": "T83GeQ2AHnPj",
        "collapsed": true
      },
      "execution_count": null,
      "outputs": []
    },
    {
      "cell_type": "markdown",
      "source": [
        "## Feature Eng"
      ],
      "metadata": {
        "id": "tlRbv37yixHZ"
      }
    },
    {
      "cell_type": "code",
      "source": [
        "df.info()"
      ],
      "metadata": {
        "id": "wbjJAwYXSPcK"
      },
      "execution_count": null,
      "outputs": []
    },
    {
      "cell_type": "code",
      "source": [
        "def enrich_datetime_columns(df, datetime_column='Created at'):\n",
        "\n",
        "    \"\"\"\n",
        "    Funzione per arricchire un DataFrame con informazioni temporali estratte da una colonna datetime.\n",
        "\n",
        "    Parametri:\n",
        "        df (pd.DataFrame): Il DataFrame da modificare.\n",
        "        datetime_column (str): Nome della colonna datetime da elaborare.\n",
        "\n",
        "    Ritorna:\n",
        "        pd.DataFrame: Il DataFrame con le nuove colonne temporali aggiunte e convertite.\n",
        "    \"\"\"\n",
        "\n",
        "    if datetime_column in df.columns:\n",
        "        # Estrai informazioni temporali\n",
        "        df['Hour'] = df[datetime_column].dt.hour\n",
        "        df['Day'] = df[datetime_column].dt.day\n",
        "        df['Month'] = df[datetime_column].dt.month\n",
        "        df['Year'] = df[datetime_column].dt.year\n",
        "        df['Day of Week'] = df[datetime_column].dt.day_name()\n",
        "        df['Date'] = df[datetime_column].dt.date\n",
        "\n",
        "        # Converte la colonna Date in datetime64\n",
        "        df['Date'] = pd.to_datetime(df['Date'])\n",
        "\n",
        "    return df"
      ],
      "metadata": {
        "id": "eXeb82EyLh7n"
      },
      "execution_count": null,
      "outputs": []
    },
    {
      "cell_type": "code",
      "source": [
        "df = enrich_datetime_columns(df)"
      ],
      "metadata": {
        "id": "32ZOO2onLh5R"
      },
      "execution_count": null,
      "outputs": []
    },
    {
      "cell_type": "code",
      "source": [
        "df.info()"
      ],
      "metadata": {
        "id": "Z_eMqxbRLn1V"
      },
      "execution_count": null,
      "outputs": []
    },
    {
      "cell_type": "code",
      "source": [
        "# Creiamo la nuova colonna basata sui valori di 'Lineitem name'\n",
        "# QUESTO è PER CREARE LA COLONNA CATEGORIA PRODOTTI\n",
        "\n",
        "df['Category'] = df['Lineitem name'].apply(\n",
        "    lambda x: 'Bundle' if '+' in x else  # Se il nome del prodotto contiene \"+\", è un bundle\n",
        "              'Y' if 'X' in x else  # Se il nome del prodotto contiene X allora Y\n",
        "              'Altro'\n",
        ")"
      ],
      "metadata": {
        "id": "kXnffIl3lHxP"
      },
      "execution_count": null,
      "outputs": []
    },
    {
      "cell_type": "code",
      "source": [
        "df['Category'] = df['Category'].astype('category')"
      ],
      "metadata": {
        "id": "kXt0m_MCPEuc"
      },
      "execution_count": null,
      "outputs": []
    },
    {
      "cell_type": "code",
      "source": [
        "print(df['Category'].cat.categories)  # Mostra le categorie uniche"
      ],
      "metadata": {
        "id": "4XViJKm1PmH3"
      },
      "execution_count": null,
      "outputs": []
    },
    {
      "cell_type": "markdown",
      "source": [
        "## Add Taxes col manually"
      ],
      "metadata": {
        "id": "Aqozzd7Ktn4D"
      }
    },
    {
      "cell_type": "code",
      "source": [
        "# Aggiornare la colonna 'Taxes' in base alla condizione sulla colonna \"Lineitem name\"\n",
        "df[\"perc_taxes\"] = df[\"Lineitem name\"].apply(lambda x: 10 if \"X\" in x.lower() or \"Y\" in x.lower() else 22)\n",
        "# = inserisci 10% se il nome prodotto contiene X o Y, altrimenti il 22%"
      ],
      "metadata": {
        "id": "jwHX1vHct3o8"
      },
      "execution_count": null,
      "outputs": []
    },
    {
      "cell_type": "code",
      "source": [
        "# aggiorna il tipo di dato che deve essere a virgola mobile\n",
        "df['perc_taxes'] = df['perc_taxes'].astype('float64')"
      ],
      "metadata": {
        "id": "gtSf_ln6TaEj"
      },
      "execution_count": null,
      "outputs": []
    },
    {
      "cell_type": "markdown",
      "source": [
        "## Add `Subtotal after taxes` col"
      ],
      "metadata": {
        "id": "-rCqXoILxvc5"
      }
    },
    {
      "cell_type": "code",
      "source": [
        "df[\"Subtotal after taxes\"] = df[\"Subtotal\"] - (df[\"Subtotal\"] / 100 * df[\"perc_taxes\"])"
      ],
      "metadata": {
        "id": "99A7f5Trybw2"
      },
      "execution_count": null,
      "outputs": []
    },
    {
      "cell_type": "code",
      "source": [
        "df['Subtotal after taxes'] = df['Subtotal after taxes'].astype('float64')"
      ],
      "metadata": {
        "id": "UbvstM-YUXqY"
      },
      "execution_count": null,
      "outputs": []
    },
    {
      "cell_type": "markdown",
      "source": [
        "## Save in parquet format to retain dtypes"
      ],
      "metadata": {
        "id": "qX0_Ll-0Uo9f"
      }
    },
    {
      "cell_type": "code",
      "source": [
        "df.to_parquet('<nome che vuoi dare al file>.parquet')"
      ],
      "metadata": {
        "id": "wgChtF5iUoDI"
      },
      "execution_count": null,
      "outputs": []
    },
    {
      "cell_type": "markdown",
      "source": [
        "# Analysis"
      ],
      "metadata": {
        "id": "38fVcewml1ve"
      }
    },
    {
      "cell_type": "code",
      "source": [
        "df = pd.read_parquet('<path di quello che hai salvato nella cella prima>')"
      ],
      "metadata": {
        "id": "qPgO7abIJqXz"
      },
      "execution_count": null,
      "outputs": []
    },
    {
      "cell_type": "code",
      "source": [
        "# verifica un'anteprima\n",
        "df.head()"
      ],
      "metadata": {
        "id": "ZH7732vRosCr"
      },
      "execution_count": null,
      "outputs": []
    },
    {
      "cell_type": "code",
      "source": [
        "df.info()"
      ],
      "metadata": {
        "id": "hj5yK_a1PuE9"
      },
      "execution_count": null,
      "outputs": []
    },
    {
      "cell_type": "markdown",
      "source": [
        "## Total orders"
      ],
      "metadata": {
        "id": "9Juef8EI-M9K"
      }
    },
    {
      "cell_type": "code",
      "source": [
        "total_orders = df[\"Order Number\"].nunique()\n",
        "total_orders"
      ],
      "metadata": {
        "id": "xoCm3az9mkyX"
      },
      "execution_count": null,
      "outputs": []
    },
    {
      "cell_type": "markdown",
      "source": [
        "## Total unique customers"
      ],
      "metadata": {
        "id": "MaNGvArj-Rg0"
      }
    },
    {
      "cell_type": "code",
      "source": [
        "unique_customers = df['Email'].nunique()\n",
        "unique_customers"
      ],
      "metadata": {
        "id": "JJsJa7Hsm8nh"
      },
      "execution_count": null,
      "outputs": []
    },
    {
      "cell_type": "markdown",
      "source": [
        "## Recurrent customers %"
      ],
      "metadata": {
        "id": "vh8P-3SqYFKg"
      }
    },
    {
      "cell_type": "code",
      "source": [
        "rec_customers = total_orders - unique_customers\n",
        "rec_customers"
      ],
      "metadata": {
        "id": "8qsnoeRUYJ06"
      },
      "execution_count": null,
      "outputs": []
    },
    {
      "cell_type": "code",
      "source": [
        "# in percentuale rispetto al totale\n",
        "round(rec_customers/unique_customers*100,1)"
      ],
      "metadata": {
        "id": "FIJqhQI_ZEfw"
      },
      "execution_count": null,
      "outputs": []
    },
    {
      "cell_type": "markdown",
      "source": [
        "## Best 3 province"
      ],
      "metadata": {
        "id": "-ibVoBs9-Zig"
      }
    },
    {
      "cell_type": "code",
      "source": [
        "# best 3 province\n",
        "df[\"Shipping Province\"].value_counts().head(3)"
      ],
      "metadata": {
        "id": "pn3AvfQqn80L"
      },
      "execution_count": null,
      "outputs": []
    },
    {
      "cell_type": "markdown",
      "source": [
        "## Number of scatole di x sold"
      ],
      "metadata": {
        "id": "3s1F65iwEyWW"
      }
    },
    {
      "cell_type": "code",
      "source": [
        "# Filtra le righe che contengono \"X\" (case insensitive)\n",
        "df_X = df[df['Lineitem name'].str.contains('X', case=False, na=False)].copy()"
      ],
      "metadata": {
        "id": "o5BbLSPnE3_Q"
      },
      "execution_count": null,
      "outputs": []
    },
    {
      "cell_type": "code",
      "source": [
        "# Funzione per estrarre il numero, altrimenti 1\n",
        "def extract_quantity(text):\n",
        "    match = re.search(r'\\b(\\d+)\\b', text)\n",
        "    return int(match.group(1)) if match else 1"
      ],
      "metadata": {
        "id": "lEMQ_5LIHQ0R"
      },
      "execution_count": null,
      "outputs": []
    },
    {
      "cell_type": "code",
      "source": [
        "# Applica la funzione e crea la nuova colonna 'quantita'\n",
        "df_X['quantita'] = df_X['Lineitem name'].apply(extract_quantity)"
      ],
      "metadata": {
        "id": "QO8AYGiYHQyM"
      },
      "execution_count": null,
      "outputs": []
    },
    {
      "cell_type": "code",
      "source": [
        "quantita_totale = df_X['quantita'].sum()\n",
        "print(quantita_totale)"
      ],
      "metadata": {
        "id": "f4KOyMU6up6q"
      },
      "execution_count": null,
      "outputs": []
    },
    {
      "cell_type": "code",
      "source": [
        "df_X['quantita'].value_counts()"
      ],
      "metadata": {
        "id": "Q3-5UHYVvGnG"
      },
      "execution_count": null,
      "outputs": []
    },
    {
      "cell_type": "markdown",
      "source": [
        "## Unique orders df"
      ],
      "metadata": {
        "id": "7yCuNXIaXZCK"
      }
    },
    {
      "cell_type": "code",
      "source": [
        "unique_orders = df.drop_duplicates(subset=['Order Number'])"
      ],
      "metadata": {
        "id": "oUbN4BcIpKaq"
      },
      "execution_count": null,
      "outputs": []
    },
    {
      "cell_type": "markdown",
      "source": [
        "## Average daily order per hour"
      ],
      "metadata": {
        "id": "rTVxEjyOBhrK"
      }
    },
    {
      "cell_type": "code",
      "source": [
        "# Calcoliamo la media giornaliera degli ordini per ciascun orario\n",
        "average_daily_orders_per_hour = unique_orders.groupby(['Date', 'Hour']).size().groupby('Hour').mean()"
      ],
      "metadata": {
        "id": "ZzYIMc8Lit4C"
      },
      "execution_count": null,
      "outputs": []
    },
    {
      "cell_type": "code",
      "source": [
        "# Creare un DataFrame completo con tutte le ore\n",
        "complete_hours = pd.DataFrame({'Hour': range(24)})\n",
        "\n",
        "# Verifica che 'average_daily_orders_per_hour' sia un DataFrame\n",
        "# Questo step non è sempre necessario, ma utile per evitare problemi\n",
        "if isinstance(average_daily_orders_per_hour, pd.Series):\n",
        "    average_daily_orders_per_hour = average_daily_orders_per_hour.reset_index()\n",
        "    average_daily_orders_per_hour.columns = ['Hour', 'Average Orders']\n",
        "\n",
        "# Effettuare il merge\n",
        "average_daily_orders_per_hour = pd.merge(\n",
        "    complete_hours,\n",
        "    average_daily_orders_per_hour,\n",
        "    on='Hour',\n",
        "    how='left'\n",
        ")\n",
        "\n",
        "# Riempire i valori mancanti con 0\n",
        "average_daily_orders_per_hour['Average Orders'] = average_daily_orders_per_hour['Average Orders'].fillna(0)"
      ],
      "metadata": {
        "id": "H0Tp0c0CckIc"
      },
      "execution_count": null,
      "outputs": []
    },
    {
      "cell_type": "code",
      "source": [
        "plt.figure(figsize=(10, 6))\n",
        "\n",
        "# Istogramma\n",
        "plt.bar(average_daily_orders_per_hour['Hour'], average_daily_orders_per_hour['Average Orders'])\n",
        "\n",
        "# Linea di tendenza\n",
        "plt.plot(\n",
        "    average_daily_orders_per_hour['Hour'],\n",
        "    average_daily_orders_per_hour['Average Orders'],\n",
        "    color='orange',\n",
        "    marker='o',\n",
        "    label='Trendline'\n",
        ")\n",
        "\n",
        "plt.title(\"Average Daily Orders per Hour\")\n",
        "\n",
        "plt.xlabel(\"Hour of the Day\")\n",
        "plt.ylabel(\"Average Daily Orders\")\n",
        "\n",
        "plt.xticks(range(24))\n",
        "\n",
        "plt.tight_layout()\n",
        "\n",
        "plt.show()"
      ],
      "metadata": {
        "id": "yhuYAf9lpJny"
      },
      "execution_count": null,
      "outputs": []
    },
    {
      "cell_type": "markdown",
      "source": [
        "## Average daily order per day of the week"
      ],
      "metadata": {
        "id": "kGXQfl3ZtyK8"
      }
    },
    {
      "cell_type": "code",
      "source": [
        "# Raggruppiamo per 'Date' e 'Day of Week' per calcolare gli ordini giornalieri\n",
        "orders_per_day = unique_orders.groupby(['Date', 'Day of Week']).size().reset_index(name='Order Count')"
      ],
      "metadata": {
        "id": "Hem9JJOTt3gm"
      },
      "execution_count": null,
      "outputs": []
    },
    {
      "cell_type": "code",
      "source": [
        "# Raggruppiamo per 'Day of Week' e calcoliamo la media\n",
        "average_orders_per_day_of_week = orders_per_day.groupby('Day of Week')['Order Count'].mean()"
      ],
      "metadata": {
        "id": "63QYJkC3t3cx"
      },
      "execution_count": null,
      "outputs": []
    },
    {
      "cell_type": "code",
      "source": [
        "# Definizione dell'ordine naturale dei giorni della settimana\n",
        "days_order = [\"Monday\", \"Tuesday\", \"Wednesday\", \"Thursday\", \"Friday\", \"Saturday\", \"Sunday\"]\n",
        "\n",
        "# Riordinare i dati in base ai giorni della settimana\n",
        "average_orders_per_day_of_week = average_orders_per_day_of_week.reindex(days_order)\n",
        "\n",
        "plt.figure(figsize=(10, 6))\n",
        "\n",
        "# Grafico a barre\n",
        "plt.bar(\n",
        "    average_orders_per_day_of_week.index,\n",
        "    average_orders_per_day_of_week.values,\n",
        "    label='Bar Chart'\n",
        ")\n",
        "\n",
        "# Linea di tendenza\n",
        "plt.plot(\n",
        "    average_orders_per_day_of_week.index,\n",
        "    average_orders_per_day_of_week.values,\n",
        "    color='orange',\n",
        "    marker='o',\n",
        "    linestyle='-',\n",
        "    linewidth=2,\n",
        "    label='Trendline'\n",
        ")\n",
        "\n",
        "# Personalizzazione del grafico\n",
        "plt.title('Media giornaliera degli ordini per giorno della settimana', fontsize=16)\n",
        "\n",
        "plt.xlabel('Giorno della settimana', fontsize=12)\n",
        "plt.ylabel('Media ordini giornalieri', fontsize=12)\n",
        "\n",
        "# Ottimizzazione layout\n",
        "plt.xticks(rotation=45)  # Ruota i giorni per migliorare la leggibilità\n",
        "plt.tight_layout()\n",
        "\n",
        "# Mostra il grafico\n",
        "plt.show()"
      ],
      "metadata": {
        "id": "WTdyUuepSaZv"
      },
      "execution_count": null,
      "outputs": []
    },
    {
      "cell_type": "markdown",
      "source": [
        "## Number of orders per day"
      ],
      "metadata": {
        "id": "j7ekxa4EC-Uj"
      }
    },
    {
      "cell_type": "code",
      "source": [
        "# Raggruppa per giorno e conta il numero di ordini unici\n",
        "unique_orders_daily = unique_orders.groupby(unique_orders['Date'])['Order Number'].nunique()\n",
        "\n",
        "# Creiamo un intervallo continuo di date per assicurare che tutti i giorni siano rappresentati\n",
        "date_range = pd.date_range(start=unique_orders_daily.index.min(), end=unique_orders_daily.index.max())\n",
        "unique_orders_daily = unique_orders_daily.reindex(date_range, fill_value=0)\n",
        "unique_orders_daily.index = pd.to_datetime(unique_orders_daily.index)  # Assicuriamo che l'indice sia datetime\n",
        "\n",
        "# Definiamo le annotazioni, AGGIORNATE AL 9 APR\n",
        "annotations = {\n",
        "    \"2024-08-25\": \"Evento 1\",\n",
        "    \"2024-09-01\": \"Evento 2\"\n",
        "}\n",
        "\n",
        "# Convertiamo le annotazioni in una Serie Pandas per mappare le date\n",
        "annotations = {pd.to_datetime(date): note for date, note in annotations.items()}\n",
        "\n",
        "# Creiamo il DataFrame con le informazioni\n",
        "unique_orders_daily = pd.DataFrame({\n",
        "    'orders': unique_orders_daily,\n",
        "    'annotations': [annotations.get(date, '') for date in unique_orders_daily.index]\n",
        "})\n",
        "\n",
        "# Funzione per assegnare colori ai punti in base al tipo di evento\n",
        "def assign_color(annotation):\n",
        "    if \"Consegna\" in annotation:\n",
        "        return 'green'  # 🟢 Consegne\n",
        "    elif \"@\" in annotation:\n",
        "        return 'red'  # 🔴 Market o evento\n",
        "    return 'blue'  # 🔵 Default per tutti gli altri ordini\n",
        "\n",
        "# Applica la funzione per determinare i colori dei punti\n",
        "unique_orders_daily['color'] = unique_orders_daily['annotations'].apply(assign_color)\n",
        "\n",
        "# Creazione del grafico interattivo\n",
        "fig = go.Figure()\n",
        "\n",
        "# Aggiungiamo i punti con colori dinamici\n",
        "fig.add_trace(go.Scatter(\n",
        "    x=unique_orders_daily.index,\n",
        "    y=unique_orders_daily['orders'],\n",
        "    mode='lines+markers',\n",
        "    name='Ordini unici',\n",
        "    marker=dict(\n",
        "        color=unique_orders_daily['color'],  # Colori aggiornati\n",
        "        size=10\n",
        "    ),\n",
        "    hovertemplate=(\n",
        "        '%{x|%Y-%m-%d}<br>'\n",
        "        'Ordini: %{y}<br>'\n",
        "        '<b>Annotazioni:</b> %{customdata}<extra></extra>'\n",
        "    ),\n",
        "    customdata=unique_orders_daily['annotations']  # Passa le annotazioni come dati personalizzati\n",
        "))\n",
        "\n",
        "# Aggiungiamo le due linee verticali per disegnare la finestra temporale della promo\n",
        "# Definiamo le date (assicurati che queste siano all'interno del range del grafico)\n",
        "promo_inizio_date = pd.Timestamp(\"2025-04-07\")\n",
        "promo_fine_date   = pd.Timestamp(\"2025-04-14\")\n",
        "\n",
        "fig.add_shape(\n",
        "    type=\"line\",\n",
        "    x0=promo_inizio_date,\n",
        "    x1=promo_inizio_date,\n",
        "    y0=0,\n",
        "    y1=1,\n",
        "    xref=\"x\",\n",
        "    yref=\"paper\",  # y in riferimento all'area del grafico (da 0 a 1)\n",
        "    line=dict(\n",
        "        color=\"blue\",\n",
        "        width=2,\n",
        "        dash=\"dash\"\n",
        "    )\n",
        ")\n",
        "\n",
        "fig.add_shape(\n",
        "    type=\"line\",\n",
        "    x0=promo_fine_date,\n",
        "    x1=promo_fine_date,\n",
        "    y0=0,\n",
        "    y1=1,\n",
        "    xref=\"x\",\n",
        "    yref=\"paper\",\n",
        "    line=dict(\n",
        "        color=\"blue\",\n",
        "        width=2,\n",
        "        dash=\"dash\"\n",
        "    )\n",
        ")\n",
        "\n",
        "# Aggiungiamo le annotazioni per le linee verticali, posizionate sopra il grafico\n",
        "fig.add_annotation(\n",
        "    x=promo_inizio_date,\n",
        "    y=1.02,\n",
        "    xref=\"x\",\n",
        "    yref=\"paper\",\n",
        "    text=\"inizio promo 1\",\n",
        "    showarrow=False,\n",
        "    font=dict(color=\"blue\")\n",
        ")\n",
        "\n",
        "fig.add_annotation(\n",
        "    x=promo_fine_date,\n",
        "    y=1.02,\n",
        "    xref=\"x\",\n",
        "    yref=\"paper\",\n",
        "    text=\"fine promo 1\",\n",
        "    showarrow=False,\n",
        "    font=dict(color=\"blue\")\n",
        ")\n",
        "\n",
        "# Imposta il layout del grafico\n",
        "fig.update_layout(\n",
        "    title='Time Series: Numero di Ordini Unici per Giorno',\n",
        "    xaxis_title='Data',\n",
        "    yaxis_title='Numero di Ordini',\n",
        "    hovermode='x unified',  # Mostra un solo popup per asse x\n",
        "    template='plotly_white',\n",
        "    margin=dict(l=40, r=40, t=60, b=40)  # Margini del grafico\n",
        ")\n",
        "\n",
        "# Mostra il grafico\n",
        "fig.show()"
      ],
      "metadata": {
        "id": "fGlOQukr6WEt"
      },
      "execution_count": null,
      "outputs": []
    },
    {
      "cell_type": "markdown",
      "source": [
        "## Best product category"
      ],
      "metadata": {
        "id": "XZray7WjVogf"
      }
    },
    {
      "cell_type": "code",
      "source": [
        "df['Category'].value_counts().head(20)"
      ],
      "metadata": {
        "id": "xAYCTmcq9ZXu"
      },
      "execution_count": null,
      "outputs": []
    },
    {
      "cell_type": "markdown",
      "source": [
        "## Numero di ordini per nome maglietta"
      ],
      "metadata": {
        "id": "OLtkBiTymEnQ"
      }
    },
    {
      "cell_type": "code",
      "source": [
        "# Filtra il DataFrame per considerare solo le T-shirts\n",
        "tshirt_data = df[df['Category'] == 'T-shirts'].copy()\n",
        "\n",
        "# Estrai la taglia (tra il trattino e lo slash) e rimuovi spazi bianchi\n",
        "tshirt_data['Taglia'] = tshirt_data['Lineitem name'].str.extract(r'- ([^/]+)')\n",
        "\n",
        "# Estrai il colore (dopo lo slash) e rimuovi spazi bianchi\n",
        "tshirt_data['Colore'] = tshirt_data['Lineitem name'].str.extract(r'/ (.+)$')\n",
        "\n",
        "# Estrai il nome della maglietta (prima del secondo trattino)\n",
        "tshirt_data['Nome Maglietta'] = tshirt_data['Lineitem name'].str.extract(r'^T-shirt\\s+\"(.*?)\"')"
      ],
      "metadata": {
        "id": "coM21Pbipn6p"
      },
      "execution_count": null,
      "outputs": []
    },
    {
      "cell_type": "code",
      "source": [
        "# Assegna \"Se stai leggendo\" alle righe con NaN nella colonna 'Nome Maglietta'\n",
        "tshirt_data.loc[tshirt_data['Nome Maglietta'].isna(), 'Nome Maglietta'] = \"aaa\""
      ],
      "metadata": {
        "id": "H7--HoDlrWgZ"
      },
      "execution_count": null,
      "outputs": []
    },
    {
      "cell_type": "code",
      "source": [
        "# Check\n",
        "tshirt_data[tshirt_data['Nome Maglietta'].isna()][[\"Lineitem name\", \"Nome Maglietta\"]]\n",
        "# OK"
      ],
      "metadata": {
        "colab": {
          "base_uri": "https://localhost:8080/",
          "height": 53
        },
        "id": "CExJdpsirWaw",
        "outputId": "411fe565-e40d-4bdc-dc94-ad008d3c6551"
      },
      "execution_count": null,
      "outputs": [
        {
          "output_type": "execute_result",
          "data": {
            "text/plain": [
              "Empty DataFrame\n",
              "Columns: [Lineitem name, Nome Maglietta]\n",
              "Index: []"
            ],
            "text/html": [
              "\n",
              "  <div id=\"df-b72a6dd1-5d10-4b17-8e86-7de0f7c62079\" class=\"colab-df-container\">\n",
              "    <div>\n",
              "<style scoped>\n",
              "    .dataframe tbody tr th:only-of-type {\n",
              "        vertical-align: middle;\n",
              "    }\n",
              "\n",
              "    .dataframe tbody tr th {\n",
              "        vertical-align: top;\n",
              "    }\n",
              "\n",
              "    .dataframe thead th {\n",
              "        text-align: right;\n",
              "    }\n",
              "</style>\n",
              "<table border=\"1\" class=\"dataframe\">\n",
              "  <thead>\n",
              "    <tr style=\"text-align: right;\">\n",
              "      <th></th>\n",
              "      <th>Lineitem name</th>\n",
              "      <th>Nome Maglietta</th>\n",
              "    </tr>\n",
              "  </thead>\n",
              "  <tbody>\n",
              "  </tbody>\n",
              "</table>\n",
              "</div>\n",
              "    <div class=\"colab-df-buttons\">\n",
              "\n",
              "  <div class=\"colab-df-container\">\n",
              "    <button class=\"colab-df-convert\" onclick=\"convertToInteractive('df-b72a6dd1-5d10-4b17-8e86-7de0f7c62079')\"\n",
              "            title=\"Convert this dataframe to an interactive table.\"\n",
              "            style=\"display:none;\">\n",
              "\n",
              "  <svg xmlns=\"http://www.w3.org/2000/svg\" height=\"24px\" viewBox=\"0 -960 960 960\">\n",
              "    <path d=\"M120-120v-720h720v720H120Zm60-500h600v-160H180v160Zm220 220h160v-160H400v160Zm0 220h160v-160H400v160ZM180-400h160v-160H180v160Zm440 0h160v-160H620v160ZM180-180h160v-160H180v160Zm440 0h160v-160H620v160Z\"/>\n",
              "  </svg>\n",
              "    </button>\n",
              "\n",
              "  <style>\n",
              "    .colab-df-container {\n",
              "      display:flex;\n",
              "      gap: 12px;\n",
              "    }\n",
              "\n",
              "    .colab-df-convert {\n",
              "      background-color: #E8F0FE;\n",
              "      border: none;\n",
              "      border-radius: 50%;\n",
              "      cursor: pointer;\n",
              "      display: none;\n",
              "      fill: #1967D2;\n",
              "      height: 32px;\n",
              "      padding: 0 0 0 0;\n",
              "      width: 32px;\n",
              "    }\n",
              "\n",
              "    .colab-df-convert:hover {\n",
              "      background-color: #E2EBFA;\n",
              "      box-shadow: 0px 1px 2px rgba(60, 64, 67, 0.3), 0px 1px 3px 1px rgba(60, 64, 67, 0.15);\n",
              "      fill: #174EA6;\n",
              "    }\n",
              "\n",
              "    .colab-df-buttons div {\n",
              "      margin-bottom: 4px;\n",
              "    }\n",
              "\n",
              "    [theme=dark] .colab-df-convert {\n",
              "      background-color: #3B4455;\n",
              "      fill: #D2E3FC;\n",
              "    }\n",
              "\n",
              "    [theme=dark] .colab-df-convert:hover {\n",
              "      background-color: #434B5C;\n",
              "      box-shadow: 0px 1px 3px 1px rgba(0, 0, 0, 0.15);\n",
              "      filter: drop-shadow(0px 1px 2px rgba(0, 0, 0, 0.3));\n",
              "      fill: #FFFFFF;\n",
              "    }\n",
              "  </style>\n",
              "\n",
              "    <script>\n",
              "      const buttonEl =\n",
              "        document.querySelector('#df-b72a6dd1-5d10-4b17-8e86-7de0f7c62079 button.colab-df-convert');\n",
              "      buttonEl.style.display =\n",
              "        google.colab.kernel.accessAllowed ? 'block' : 'none';\n",
              "\n",
              "      async function convertToInteractive(key) {\n",
              "        const element = document.querySelector('#df-b72a6dd1-5d10-4b17-8e86-7de0f7c62079');\n",
              "        const dataTable =\n",
              "          await google.colab.kernel.invokeFunction('convertToInteractive',\n",
              "                                                    [key], {});\n",
              "        if (!dataTable) return;\n",
              "\n",
              "        const docLinkHtml = 'Like what you see? Visit the ' +\n",
              "          '<a target=\"_blank\" href=https://colab.research.google.com/notebooks/data_table.ipynb>data table notebook</a>'\n",
              "          + ' to learn more about interactive tables.';\n",
              "        element.innerHTML = '';\n",
              "        dataTable['output_type'] = 'display_data';\n",
              "        await google.colab.output.renderOutput(dataTable, element);\n",
              "        const docLink = document.createElement('div');\n",
              "        docLink.innerHTML = docLinkHtml;\n",
              "        element.appendChild(docLink);\n",
              "      }\n",
              "    </script>\n",
              "  </div>\n",
              "\n",
              "\n",
              "    </div>\n",
              "  </div>\n"
            ],
            "application/vnd.google.colaboratory.intrinsic+json": {
              "type": "dataframe",
              "summary": "{\n  \"name\": \"# OK\",\n  \"rows\": 0,\n  \"fields\": [\n    {\n      \"column\": \"Lineitem name\",\n      \"properties\": {\n        \"dtype\": \"string\",\n        \"num_unique_values\": 0,\n        \"samples\": [],\n        \"semantic_type\": \"\",\n        \"description\": \"\"\n      }\n    },\n    {\n      \"column\": \"Nome Maglietta\",\n      \"properties\": {\n        \"dtype\": \"string\",\n        \"num_unique_values\": 0,\n        \"samples\": [],\n        \"semantic_type\": \"\",\n        \"description\": \"\"\n      }\n    }\n  ]\n}"
            }
          },
          "metadata": {},
          "execution_count": 63
        }
      ]
    },
    {
      "cell_type": "code",
      "source": [
        "tshirt_data['Nome Maglietta'].value_counts()"
      ],
      "metadata": {
        "id": "zhVepu-AtpBp"
      },
      "execution_count": null,
      "outputs": []
    },
    {
      "cell_type": "code",
      "source": [
        "# replace \"X\" con \"Y\"\n",
        "tshirt_data['Nome Maglietta'] = tshirt_data['Nome Maglietta'].replace({'X': 'Y'})"
      ],
      "metadata": {
        "id": "39lMNjgouB9Y"
      },
      "execution_count": null,
      "outputs": []
    },
    {
      "cell_type": "code",
      "source": [
        "tshirt_data['Nome Maglietta'].value_counts()"
      ],
      "metadata": {
        "id": "gMkwk9iKuj0L"
      },
      "execution_count": null,
      "outputs": []
    },
    {
      "cell_type": "markdown",
      "source": [
        "## Numero di ordini per mug"
      ],
      "metadata": {
        "id": "eVGJ0_BsmPbg"
      }
    },
    {
      "cell_type": "code",
      "source": [
        "# Filtra il DataFrame per considerare solo le Mug\n",
        "mug_data = df[df['Category'] == 'Mugs'].copy()"
      ],
      "metadata": {
        "id": "c6_vBFGlmSDq"
      },
      "execution_count": null,
      "outputs": []
    },
    {
      "cell_type": "code",
      "source": [
        "mug_data['Lineitem name'].value_counts()"
      ],
      "metadata": {
        "id": "Fezxb-PqvWCt"
      },
      "execution_count": null,
      "outputs": []
    },
    {
      "cell_type": "markdown",
      "source": [
        "## `Subtotal after taxes` per year and month"
      ],
      "metadata": {
        "id": "lMdl464Prhtx"
      }
    },
    {
      "cell_type": "code",
      "source": [
        "df.head()"
      ],
      "metadata": {
        "id": "_5Xtq4nEOIHU"
      },
      "execution_count": null,
      "outputs": []
    },
    {
      "cell_type": "code",
      "source": [
        "# Raggruppare per Year e Month sommando Subtotal after taxes\n",
        "grouped_df = df.groupby(['Year', 'Month'])['Subtotal after taxes'].sum().round(1).reset_index()"
      ],
      "metadata": {
        "id": "pw2l5FGywHDT"
      },
      "execution_count": null,
      "outputs": []
    },
    {
      "cell_type": "code",
      "source": [
        "grouped_df"
      ],
      "metadata": {
        "id": "6EGv3bKhwdk_"
      },
      "execution_count": null,
      "outputs": []
    }
  ]
}